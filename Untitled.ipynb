{
 "cells": [
  {
   "cell_type": "code",
   "execution_count": 2,
   "id": "d7f497fc-4ed4-4e8f-80d1-12925ad9156c",
   "metadata": {},
   "outputs": [
    {
     "ename": "SyntaxError",
     "evalue": "invalid syntax (Temp/ipykernel_544/2503536508.py, line 1)",
     "output_type": "error",
     "traceback": [
      "\u001b[1;36m  File \u001b[1;32m\"C:\\Users\\ASUS\\AppData\\Local\\Temp/ipykernel_544/2503536508.py\"\u001b[1;36m, line \u001b[1;32m1\u001b[0m\n\u001b[1;33m    POST analyze\u001b[0m\n\u001b[1;37m         ^\u001b[0m\n\u001b[1;31mSyntaxError\u001b[0m\u001b[1;31m:\u001b[0m invalid syntax\n"
     ]
    }
   ],
   "source": [
    "\n",
    "POST _analyze\n",
    "{\n",
    "  \"analyzer\": \"standard\",\n",
    "  \"text\": \"The 2 QUICK Brown-Foxes jumped over the lazy dog's bone.\"\n",
    "}\n",
    "\n",
    "\n",
    "PUT my-index-000001\n",
    "{\n",
    "  \"settings\": {\n",
    "    \"analysis\": {\n",
    "      \"analyzer\": {\n",
    "        \"my_english_analyzer\": {\n",
    "          \"type\": \"standard\",\n",
    "          \"max_token_length\": 5,\n",
    "          \"stopwords\": \"_english_\"\n",
    "        }\n",
    "      }\n",
    "    }\n",
    "  }\n",
    "}\n",
    "\n",
    "POST my-index-000001/_analyze\n",
    "{\n",
    "  \"analyzer\": \"my_english_analyzer\",\n",
    "  \"text\": \"The 2 QUICK Brown-Foxes jumped over the lazy dog's bone.\"\n",
    "}\n",
    "\n",
    "POST my-index-000001/example/1\n",
    "{\n",
    "  \"title\" : \"apple apple apple apple apple\"\n",
    "}\n",
    "POST my-index-000001/example/2\n",
    "{\n",
    "  \"title\" : \"apple apple apple banana banana\"\n",
    "}\n",
    "POST my-index-000001/example/3\n",
    "{\n",
    "  \"title\" : \"apple blueberry banana coconut\"\n",
    "}\n",
    "\n",
    "GET my-index-000001/example/_search\n",
    "{\n",
    "  \"explain\" : \"true\",\n",
    "  \"query\": {\n",
    "    \"match\": {\n",
    "      \"title\": \"apple banana\"\n",
    "      }\n",
    "    }\n",
    "  }\n",
    "}\n"
   ]
  },
  {
   "cell_type": "code",
   "execution_count": null,
   "id": "f0cae848-2455-40c0-8af0-e2821af11cfe",
   "metadata": {},
   "outputs": [],
   "source": []
  }
 ],
 "metadata": {
  "kernelspec": {
   "display_name": "Python 3 (ipykernel)",
   "language": "python",
   "name": "python3"
  },
  "language_info": {
   "codemirror_mode": {
    "name": "ipython",
    "version": 3
   },
   "file_extension": ".py",
   "mimetype": "text/x-python",
   "name": "python",
   "nbconvert_exporter": "python",
   "pygments_lexer": "ipython3",
   "version": "3.9.2"
  }
 },
 "nbformat": 4,
 "nbformat_minor": 5
}
